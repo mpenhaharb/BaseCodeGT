{
 "cells": [
  {
   "cell_type": "code",
   "execution_count": null,
   "metadata": {},
   "outputs": [],
   "source": [
    "from scipy.spatial.distance import pdist, squareform\n",
    "import pandas as pd\n",
    "import numpy as np\n",
    "import seaborn as sns\n",
    "import matplotlib.pyplot as plt\n",
    "%matplotlib inline"
   ]
  },
  {
   "cell_type": "code",
   "execution_count": null,
   "metadata": {},
   "outputs": [],
   "source": [
    "#cluster com dendrograma\n",
    "from scipy.cluster.hierarchy import dendrogram, linkage, fcluster\n",
    "from sklearn.cluster import AgglomerativeClustering\n",
    "from sklearn.preprocessing import StandardScaler"
   ]
  },
  {
   "cell_type": "code",
   "execution_count": null,
   "metadata": {},
   "outputs": [],
   "source": [
    "#database\n",
    "df = pd.read_excel(\"databases/pandemicQuarterDatabase.xlsx\")"
   ]
  },
  {
   "cell_type": "code",
   "execution_count": null,
   "metadata": {},
   "outputs": [],
   "source": [
    "# choosing the pandemic quarter\n",
    "#1T or 2T or 3T or 4T or 5T or 6T\n",
    "trimestre = '1T'; \n",
    "\n",
    "descricao = \"Inf_Income_Education\"\n",
    "nomeimag = 'Renda_Infod_Nivel'\n",
    "\n",
    "listaEstado = ['AC','AL','AM','AP','BA','CE','DF','ES','GO','MA','MG','MS','MT','PA','PB','PE','PI','PR','RJ','RN','RO','RR','RS','SC','SE','SP','TO']\n",
    "\n",
    "dadosT = df\n",
    "\n",
    "#separando por Trimestre\n",
    "dadosT = dadosT.set_index('TriPand')\n",
    "dadosT = dadosT.loc[trimestre]"
   ]
  },
  {
   "cell_type": "code",
   "execution_count": null,
   "metadata": {},
   "outputs": [],
   "source": [
    "# choosing the variables\n",
    "\n",
    "columns = ['UF','MediaPerCapita','txInfod','FundC','FundI','MedioComp','MedioI','NA_Nivel','S_Inst','SuperiorC','SuperiorI','dblf', 'dtm', 'MdCasosDia','MedMortesDia' ]\n",
    "dadosT = pd.DataFrame(dadosT, columns = columns)"
   ]
  },
  {
   "cell_type": "code",
   "execution_count": null,
   "metadata": {},
   "outputs": [],
   "source": [
    "estados = dadosT.iloc[:,0].to_list()\n",
    "movements = dadosT.drop(dadosT.columns[0], axis=1)"
   ]
  },
  {
   "cell_type": "code",
   "execution_count": null,
   "metadata": {},
   "outputs": [],
   "source": [
    "# 1) problema/dados\n",
    "# 2) tratamento dados, padronização\n",
    "# 3) coeficiente de semelhança - medida de dissimilaridade (euclidiana)\n",
    "# 4) processo de aglomeração (euclid, average) - dendrograma\n",
    "#    E k-means (gráfico do cotovelo) para estimar k grupos\n",
    "#    CCC - Coef. Corr. Cofenética (maior que 0,7)\n",
    "# 5) análises"
   ]
  },
  {
   "cell_type": "code",
   "execution_count": null,
   "metadata": {},
   "outputs": [],
   "source": [
    "# 2) tratamento dados, padronização\n",
    "\n",
    "scaler = StandardScaler()\n",
    "movements = scaler.fit_transform(movements)\n"
   ]
  },
  {
   "cell_type": "code",
   "execution_count": null,
   "metadata": {},
   "outputs": [],
   "source": [
    "# 3) coeficiente de semelhança - medida de dissimilaridade (euclidiana)\n",
    "# MATRIZ DE CORRELAÇÃO EUCLEDIANA\n",
    "\n",
    "# squareform é para pegar o resultado e mostrar em matriz\n",
    "mat = pdist(movements, 'euclid')\n",
    "matDistancias = squareform(mat)"
   ]
  },
  {
   "cell_type": "code",
   "execution_count": null,
   "metadata": {},
   "outputs": [],
   "source": [
    "matDistanciastabela = pd.DataFrame(matDistancias,columns=listaEstado, index=listaEstado)"
   ]
  },
  {
   "cell_type": "code",
   "execution_count": null,
   "metadata": {},
   "outputs": [],
   "source": [
    "# determinar a correlação cofenética \n",
    "# generate the linkage matrix\n",
    "\n",
    "# metodo single, complete, average, centroid, median, ward\n",
    "# linkage para agrupamento hierárquico\n",
    "mergings = linkage(movements, method='average', metric='euclidean')\n",
    "\n",
    "from scipy.cluster.hierarchy import cophenet\n",
    "from scipy.spatial.distance import pdist\n",
    "\n",
    "c, coph_dists = cophenet(mergings, mat)\n",
    "c"
   ]
  },
  {
   "cell_type": "code",
   "execution_count": null,
   "metadata": {},
   "outputs": [],
   "source": [
    "# dataframe com as informações do LINKAGE - vai ser salvo em um arquivo excel\n",
    "dfmer = pd.DataFrame(mergings)"
   ]
  },
  {
   "cell_type": "code",
   "execution_count": null,
   "metadata": {
    "scrolled": false
   },
   "outputs": [],
   "source": [
    "# set the fig size\n",
    "fig= plt.figure(figsize=(9,5))\n",
    "\n",
    "# Plot the dendrogram\n",
    "dendrogram(mergings,\n",
    "           labels=estados,\n",
    "           leaf_rotation=75,\n",
    "           leaf_font_size=12\n",
    "          )\n",
    "#plt.title(f'Dendrogram {trimestre}  {descricao}')\n",
    "#plt.title(f'Dendrogram')\n",
    "plt.xlabel('States')\n",
    "plt.ylabel('Euclidean Distance')\n",
    "\n",
    "# salvar cada dendrograma\n",
    "plt.savefig(f'databases/{trimestre}_{nomeimag}.png')\n",
    "plt.show()"
   ]
  },
  {
   "cell_type": "code",
   "execution_count": null,
   "metadata": {},
   "outputs": [],
   "source": [
    "from sklearn.cluster import KMeans\n",
    "wcss = []\n",
    " \n",
    "for i in range(1, 15):\n",
    "    kmeans = KMeans(n_clusters = i)\n",
    "    kmeans.fit(mergings)\n",
    "    #print i, kmeans.inertia_\n",
    "    wcss.append(kmeans.inertia_)\n",
    "    \n",
    "plt.plot(range(1, 15), wcss)\n",
    "plt.title('Elbow Method')\n",
    "plt.xlabel('Clusters Number')\n",
    "plt.ylabel('Within Sum of Square') #within cluster sum of squares\n",
    "\n",
    "plt.savefig(f'databases/{trimestre}_{nomeimag}_Elbow.png')\n",
    "plt.show()"
   ]
  },
  {
   "cell_type": "code",
   "execution_count": null,
   "metadata": {},
   "outputs": [],
   "source": [
    "from sklearn.cluster import KMeans\n",
    "from math import sqrt"
   ]
  },
  {
   "cell_type": "code",
   "execution_count": null,
   "metadata": {},
   "outputs": [],
   "source": [
    "def optimal_number_of_clusters(wcss):\n",
    "    x1, y1 = 2, wcss[0]\n",
    "    x2, y2 = 20, wcss[len(wcss)-1]\n",
    "\n",
    "    distances = []\n",
    "    for i in range(len(wcss)):\n",
    "        x0 = i+2\n",
    "        y0 = wcss[i]\n",
    "        numerator = abs((y2-y1)*x0 - (x2-x1)*y0 + x2*y1 - y2*x1)\n",
    "        denominator = sqrt((y2 - y1)**2 + (x2 - x1)**2)\n",
    "        distances.append(numerator/denominator)\n",
    "    \n",
    "    return distances.index(max(distances)) + 2"
   ]
  },
  {
   "cell_type": "code",
   "execution_count": null,
   "metadata": {},
   "outputs": [],
   "source": [
    "# calculando a quantidade ótima de clusters\n",
    "n = optimal_number_of_clusters(wcss)"
   ]
  },
  {
   "cell_type": "code",
   "execution_count": null,
   "metadata": {},
   "outputs": [],
   "source": [
    "# criterio de numero de clusters\n",
    "rotulos_k = fcluster(mergings, t=n, criterion='maxclust')"
   ]
  },
  {
   "cell_type": "code",
   "execution_count": null,
   "metadata": {},
   "outputs": [],
   "source": [
    "# https://medium.com/@isnardgurgel/an%C3%A1lises-com-algoritmos-de-clustering-40d52f36f67c\n",
    "\n",
    "# Precisamos estabelecer um corte que otimize e capture o que estamos buscando (a covariância dos ativos).\n",
    "\n",
    "# fazendos as importações necessárias\n",
    "from scipy.cluster.hierarchy import fcluster\n",
    "\n",
    "# Escolhendo o ponto de corte da nossa árvore do dendrograma\n",
    "# Faça uma alteração nesse valor mudam os clusters\n",
    "#labels = rotulos_dist \n",
    "labels = rotulos_k\n",
    "\n",
    "# criando um dataframe com as labes e as empresas= df\n",
    "dfCluster = pd.DataFrame({'Clusters': labels, 'Estados': estados})\n",
    "\n",
    "# Criando uma crosstab: ct\n",
    "ct = pd.crosstab(dfCluster['Clusters'], dfCluster['Estados'])\n",
    "\n",
    "# transformando a crosstab em um cluster map\n",
    "sns.clustermap(ct, figsize=(9, 5), cbar_pos = None, dendrogram_ratio=(0.001))\n",
    "\n",
    "plt.savefig(f'databases/{trimestre}_{nomeimag}_Map.png')"
   ]
  },
  {
   "cell_type": "code",
   "execution_count": null,
   "metadata": {},
   "outputs": [],
   "source": [
    "dfmer = dfmer.append(pd.DataFrame(dfCluster))                          \n",
    "dfmer = dfmer.append(pd.DataFrame(matDistanciastabela))"
   ]
  },
  {
   "cell_type": "code",
   "execution_count": null,
   "metadata": {},
   "outputs": [],
   "source": [
    "dfmer.to_excel(f'databases/{trimestre}_{nomeimag}.xlsx', encoding='utf-8', index=False)"
   ]
  }
 ],
 "metadata": {
  "kernelspec": {
   "display_name": "Python 3",
   "language": "python",
   "name": "python3"
  },
  "language_info": {
   "codemirror_mode": {
    "name": "ipython",
    "version": 3
   },
   "file_extension": ".py",
   "mimetype": "text/x-python",
   "name": "python",
   "nbconvert_exporter": "python",
   "pygments_lexer": "ipython3",
   "version": "3.7.3"
  }
 },
 "nbformat": 4,
 "nbformat_minor": 2
}
