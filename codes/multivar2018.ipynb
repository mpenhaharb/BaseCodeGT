{
 "cells": [
  {
   "cell_type": "code",
   "execution_count": null,
   "metadata": {},
   "outputs": [],
   "source": [
    "# variaveis para atualizar\n",
    "trimestre = 'Pandemic';\n",
    "descricao = \"Infodemics and election\"\n",
    "nomeimag = 'Infod_election'"
   ]
  },
  {
   "cell_type": "code",
   "execution_count": null,
   "metadata": {},
   "outputs": [],
   "source": [
    "# fazendo o dendrograma - planilha mais atual 15/11/2021 - por trimestre\n",
    "\n",
    "from scipy.spatial.distance import pdist, squareform\n",
    "import pandas as pd\n",
    "import numpy as np\n",
    "import seaborn as sns\n",
    "import matplotlib.pyplot as plt\n",
    "%matplotlib inline"
   ]
  },
  {
   "cell_type": "code",
   "execution_count": null,
   "metadata": {},
   "outputs": [],
   "source": [
    "#cluster com dendrograma\n",
    "from scipy.cluster.hierarchy import dendrogram, linkage, fcluster\n",
    "from sklearn.cluster import AgglomerativeClustering\n",
    "from sklearn.preprocessing import StandardScaler"
   ]
  },
  {
   "cell_type": "code",
   "execution_count": null,
   "metadata": {},
   "outputs": [],
   "source": [
    "df = pd.read_excel(\"databases/electionDatabase.xlsx\")"
   ]
  },
  {
   "cell_type": "code",
   "execution_count": null,
   "metadata": {},
   "outputs": [],
   "source": [
    "listaEstado = ['AC','AL','AM','AP','BA','CE','DF','ES','GO','MA','MG','MS','MT','PA','PB','PE','PI','PR','RJ','RN','RO','RR','RS','SC','SE','SP','TO']\n",
    "dadosT = df\n",
    "\n",
    "# choosing the variables\n",
    "columns = ['UF','TXInfodemicos', 'Ganhou','dtm']\n",
    "\n",
    "dadosT = pd.DataFrame(dadosT, columns = columns)"
   ]
  },
  {
   "cell_type": "code",
   "execution_count": null,
   "metadata": {},
   "outputs": [],
   "source": [
    "estados = dadosT.iloc[:,0].to_list()\n",
    "movements = dadosT.drop(dadosT.columns[0], axis=1)"
   ]
  },
  {
   "cell_type": "code",
   "execution_count": null,
   "metadata": {},
   "outputs": [],
   "source": [
    "# 1) problema/dados\n",
    "# 2) tratamento dados, padronização\n",
    "# 3) coeficiente de semelhança - medida de dissimilaridade (euclidiana)\n",
    "# 4) processo de aglomeração (ward, average) - dendrograma\n",
    "#    E k-means (gráfico do cotovelo) para estimar k grupos\n",
    "#    CCC - Coef. Corr. Cofenética (maior que 0,7)\n",
    "# 5) análises"
   ]
  },
  {
   "cell_type": "code",
   "execution_count": null,
   "metadata": {},
   "outputs": [],
   "source": [
    "# 2) tratamento dados, padronização\n",
    "\n",
    "scaler = StandardScaler()\n",
    "movements = scaler.fit_transform(movements)\n"
   ]
  },
  {
   "cell_type": "code",
   "execution_count": null,
   "metadata": {},
   "outputs": [],
   "source": [
    "# 3) coeficiente de semelhança - medida de dissimilaridade (euclidiana)\n",
    "\n",
    "mat = pdist(movements, 'euclid')\n",
    "matDistancias = squareform(mat)\n"
   ]
  },
  {
   "cell_type": "code",
   "execution_count": null,
   "metadata": {},
   "outputs": [],
   "source": [
    "matDistanciastabela = pd.DataFrame(matDistancias,columns=listaEstado, index=listaEstado)"
   ]
  },
  {
   "cell_type": "code",
   "execution_count": null,
   "metadata": {},
   "outputs": [],
   "source": [
    "# determinar a correlação cofenética\n",
    "mergings = linkage(movements, method='average', metric='euclidean')\n",
    "\n",
    "from scipy.cluster.hierarchy import cophenet\n",
    "from scipy.spatial.distance import pdist\n",
    "\n",
    "c, coph_dists = cophenet(mergings, mat)\n",
    "c"
   ]
  },
  {
   "cell_type": "code",
   "execution_count": null,
   "metadata": {},
   "outputs": [],
   "source": [
    "# dataframe com as informações do LINKAGE - vai ser salvo em um arquivo excel\n",
    "dfmer = pd.DataFrame(mergings)"
   ]
  },
  {
   "cell_type": "code",
   "execution_count": null,
   "metadata": {
    "scrolled": true
   },
   "outputs": [],
   "source": [
    "# set the fig size\n",
    "fig= plt.figure(figsize=(9,5))\n",
    "\n",
    "# Plot the dendrogram\n",
    "dendrogram(mergings,\n",
    "           labels=estados,\n",
    "           leaf_rotation=75,\n",
    "           leaf_font_size=12\n",
    "          )\n",
    "#plt.title(f'Dendrograma {trimestre}  {descricao}')\n",
    "plt.xlabel('States')\n",
    "plt.ylabel('Euclidean Distance')\n",
    "\n",
    "# salvar cada dendrograma\n",
    "plt.savefig(f'databases/{trimestre}_{nomeimag}.png')\n",
    "plt.show()"
   ]
  },
  {
   "cell_type": "code",
   "execution_count": null,
   "metadata": {},
   "outputs": [],
   "source": [
    "from sklearn.cluster import KMeans\n",
    "wcss = []\n",
    " \n",
    "for i in range(2, 15):\n",
    "    kmeans = KMeans(n_clusters = i)\n",
    "    kmeans.fit(mergings)\n",
    "    #print i, kmeans.inertia_\n",
    "    wcss.append(kmeans.inertia_)\n",
    "    \n",
    "\n",
    "valorwcss = wcss    \n",
    "plt.plot(range(2, 15), wcss)\n",
    "plt.title(f'Metodo Elbow - Curva do Cotovelo - {trimestre}')\n",
    "plt.xlabel('Numero de Clusters')\n",
    "plt.ylabel('WSS') #within cluster sum of squares\n",
    "\n",
    "plt.savefig(f'databases/{trimestre}_{nomeimag}_Elbow.png')\n",
    "plt.show()"
   ]
  },
  {
   "cell_type": "code",
   "execution_count": null,
   "metadata": {},
   "outputs": [],
   "source": [
    "from sklearn.cluster import KMeans\n",
    "from math import sqrt"
   ]
  },
  {
   "cell_type": "code",
   "execution_count": null,
   "metadata": {},
   "outputs": [],
   "source": [
    "teste = []\n",
    "\n",
    "def optimal_number_of_clusters(wcss):\n",
    "    x1, y1 = 2, wcss[0]\n",
    "    x2, y2 = 20, wcss[len(wcss)-1]\n",
    "\n",
    "    distances = []\n",
    "    for i in range(len(wcss)):\n",
    "        x0 = i+2\n",
    "        y0 = wcss[i]\n",
    "        numerator = abs((y2-y1)*x0 - (x2-x1)*y0 + x2*y1 - y2*x1)\n",
    "        denominator = sqrt((y2 - y1)**2 + (x2 - x1)**2)\n",
    "        distances.append(numerator/denominator)\n",
    "    \n",
    "    teste = distances\n",
    "    \n",
    "    return distances.index(max(distances)) + 2"
   ]
  },
  {
   "cell_type": "code",
   "execution_count": null,
   "metadata": {},
   "outputs": [],
   "source": [
    "# calculando a quantidade ótima de clusters\n",
    "n = optimal_number_of_clusters(wcss)"
   ]
  },
  {
   "cell_type": "code",
   "execution_count": null,
   "metadata": {},
   "outputs": [],
   "source": [
    "# criterio de numero de clusters\n",
    "rotulos_k = fcluster(mergings, t = n, criterion='maxclust')"
   ]
  },
  {
   "cell_type": "code",
   "execution_count": null,
   "metadata": {},
   "outputs": [],
   "source": [
    "from scipy.cluster.hierarchy import fcluster\n",
    "\n",
    "# Escolhendo o ponto de corte da nossa árvore do dendrograma\n",
    "# Faça uma alteração nesse valor mudam os clusters\n",
    "#labels = rotulos_dist \n",
    "labels = rotulos_k\n",
    "\n",
    "# criando um dataframe com as labes e as empresas= df\n",
    "dfCluster = pd.DataFrame({'Clusters': labels, 'Estados': estados})\n",
    "\n",
    "# Criando uma crosstab: ct\n",
    "ct = pd.crosstab(dfCluster['Clusters'], dfCluster['Estados'])\n",
    "\n",
    "# transformando a crosstab em um cluster map\n",
    "sns.clustermap(ct, figsize=(8, 4), cbar_pos = None,  dendrogram_ratio=(0.001))\n",
    "\n",
    "plt.title(f'Clustermap - {trimestre}')\n",
    "plt.savefig(f'databases/{trimestre}_{nomeimag}_Map.png')"
   ]
  },
  {
   "cell_type": "code",
   "execution_count": null,
   "metadata": {},
   "outputs": [],
   "source": [
    "dfmer = dfmer.append(pd.DataFrame(dfCluster))                          \n",
    "dfmer = dfmer.append(pd.DataFrame(matDistanciastabela))"
   ]
  },
  {
   "cell_type": "code",
   "execution_count": null,
   "metadata": {},
   "outputs": [],
   "source": [
    "dfmer.to_excel(f'databases/{trimestre}_{nomeimag}.xlsx', encoding='utf-8', index=False)"
   ]
  }
 ],
 "metadata": {
  "kernelspec": {
   "display_name": "Python 3",
   "language": "python",
   "name": "python3"
  },
  "language_info": {
   "codemirror_mode": {
    "name": "ipython",
    "version": 3
   },
   "file_extension": ".py",
   "mimetype": "text/x-python",
   "name": "python",
   "nbconvert_exporter": "python",
   "pygments_lexer": "ipython3",
   "version": "3.7.3"
  }
 },
 "nbformat": 4,
 "nbformat_minor": 2
}
